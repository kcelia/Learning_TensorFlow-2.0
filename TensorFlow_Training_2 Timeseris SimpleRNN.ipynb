{
 "cells": [
  {
   "cell_type": "code",
   "execution_count": 2,
   "metadata": {
    "id": "UigABu1wuNAe"
   },
   "outputs": [],
   "source": [
    "import numpy as np\n",
    "import pandas as pd\n",
    "import matplotlib.pyplot as plt\n",
    "\n",
    "from sklearn.preprocessing import MinMaxScaler\n",
    "\n",
    "from tensorflow.keras.preprocessing.sequence import TimeseriesGenerator\n",
    "\n",
    "from tensorflow.keras.models import Sequential\n",
    "from tensorflow.keras.callbacks import EarlyStopping\n",
    "from tensorflow.keras.layers import Dense, SimpleRNN, LSTM\n"
   ]
  },
  {
   "cell_type": "markdown",
   "metadata": {
    "id": "bP_elq5RuTSh"
   },
   "source": [
    "## Data"
   ]
  },
  {
   "cell_type": "code",
   "execution_count": 3,
   "metadata": {
    "colab": {
     "base_uri": "https://localhost:8080/"
    },
    "id": "Ouep93FluVHM",
    "outputId": "31419673-13fa-40fe-b015-c4cf5ab5a1af"
   },
   "outputs": [
    {
     "name": "stdout",
     "output_type": "stream",
     "text": [
      "(501, 1)\n",
      "(450, 1) (51, 1)\n"
     ]
    }
   ],
   "source": [
    "# Loading the data \n",
    "\n",
    "x = np.linspace(0,50, 501)\n",
    "y = np.sin(x)\n",
    "\n",
    "\n",
    "df = pd.DataFrame(data=y, index=x, columns=['Sinus'])\n",
    "\n",
    "print(df.shape)\n",
    "\n",
    "# Splitting the data\n",
    "\n",
    "df_train = df.iloc[: int(len(df) - len(df) * 0.1)]\n",
    "df_test  = df.iloc[int(len(df) - len(df) * 0.1): ]\n",
    "\n",
    "print(df_train.shape, df_test.shape)\n",
    "\n",
    "# Scaling the data\n",
    "\n",
    "scaler = MinMaxScaler()\n",
    "train = scaler.fit_transform(df_train)\n",
    "test  = scaler.transform(df_test)"
   ]
  },
  {
   "cell_type": "code",
   "execution_count": 4,
   "metadata": {
    "colab": {
     "base_uri": "https://localhost:8080/"
    },
    "id": "W360-mtdvGOB",
    "outputId": "eb4cc7a8-f9e7-439f-e2f3-25335a2ba52c"
   },
   "outputs": [
    {
     "data": {
      "text/plain": [
       "(400, 400, array([[[4.99999116e-01],\n",
       "         [5.49916225e-01],\n",
       "         [5.99334579e-01],\n",
       "         [6.47760405e-01],\n",
       "         [6.94709850e-01],\n",
       "         [7.39713809e-01],\n",
       "         [7.82322618e-01],\n",
       "         [8.22110545e-01],\n",
       "         [8.58680040e-01],\n",
       "         [8.91665714e-01],\n",
       "         [9.20737985e-01],\n",
       "         [9.45606372e-01],\n",
       "         [9.66022399e-01],\n",
       "         [9.81782075e-01],\n",
       "         [9.92727935e-01],\n",
       "         [9.98750612e-01],\n",
       "         [9.99789928e-01],\n",
       "         [9.95835500e-01],\n",
       "         [9.86926839e-01],\n",
       "         [9.73152957e-01],\n",
       "         [9.54651478e-01],\n",
       "         [9.31607263e-01],\n",
       "         [9.04250562e-01],\n",
       "         [8.72854714e-01],\n",
       "         [8.37733417e-01],\n",
       "         [7.99237589e-01],\n",
       "         [7.57751870e-01],\n",
       "         [7.13690771e-01],\n",
       "         [6.67494535e-01],\n",
       "         [6.19624741e-01],\n",
       "         [5.70559686e-01],\n",
       "         [5.20789614e-01],\n",
       "         [4.70811810e-01],\n",
       "         [4.21125636e-01],\n",
       "         [3.72227539e-01],\n",
       "         [3.24606094e-01],\n",
       "         [2.78737119e-01],\n",
       "         [2.35078919e-01],\n",
       "         [1.94067715e-01],\n",
       "         [1.56113277e-01],\n",
       "         [1.21594831e-01],\n",
       "         [9.08572769e-02],\n",
       "         [6.42077324e-02],\n",
       "         [4.19124713e-02],\n",
       "         [2.41942605e-02],\n",
       "         [1.12301346e-02],\n",
       "         [3.14962674e-03],\n",
       "         [3.34747619e-05],\n",
       "         [1.91281421e-03],\n",
       "         [8.76886734e-03]]]), array([[0.02053313]]), 400)"
      ]
     },
     "execution_count": 4,
     "metadata": {
      "tags": []
     },
     "output_type": "execute_result"
    }
   ],
   "source": [
    "# Generate train \n",
    "\n",
    "length     = 50 # Temporel step\n",
    "batch_size = 1\n",
    "output     = 1\n",
    "\n",
    "# targets = label if timeseries target = data \n",
    "generator = TimeseriesGenerator(data=train, targets=train, length=length, batch_size=batch_size)\n",
    "\n",
    "len(generator), len(train) - length, generator[0][0], generator[0][1], len(generator)"
   ]
  },
  {
   "cell_type": "code",
   "execution_count": 5,
   "metadata": {
    "id": "7CH7LV0HL-9E"
   },
   "outputs": [],
   "source": [
    "# Generate val_cross\n",
    "\n",
    "validation_generator = TimeseriesGenerator(data=test, targets=test, length=length, batch_size=batch_size)"
   ]
  },
  {
   "cell_type": "code",
   "execution_count": 6,
   "metadata": {
    "colab": {
     "base_uri": "https://localhost:8080/"
    },
    "id": "iKsUuaDU3DnC",
    "outputId": "28a1a399-243a-46dd-ebb4-1d7a07dddebe"
   },
   "outputs": [
    {
     "name": "stdout",
     "output_type": "stream",
     "text": [
      "Model: \"sequential\"\n",
      "_________________________________________________________________\n",
      "Layer (type)                 Output Shape              Param #   \n",
      "=================================================================\n",
      "simple_rnn (SimpleRNN)       (None, 50)                2600      \n",
      "_________________________________________________________________\n",
      "dense (Dense)                (None, 1)                 51        \n",
      "=================================================================\n",
      "Total params: 2,651\n",
      "Trainable params: 2,651\n",
      "Non-trainable params: 0\n",
      "_________________________________________________________________\n"
     ]
    }
   ],
   "source": [
    "early_stopping = EarlyStopping(monitor='val_loss', patience=2)\n",
    "\n",
    "model = Sequential()\n",
    "\n",
    "model.add(SimpleRNN(units=length, input_shape=(length, output)))\n",
    "model.add(Dense(output))\n",
    "\n",
    "model.compile(optimizer='adam', loss='mse')\n",
    "\n",
    "model.summary()"
   ]
  },
  {
   "cell_type": "code",
   "execution_count": 7,
   "metadata": {
    "colab": {
     "base_uri": "https://localhost:8080/"
    },
    "id": "UESqZNJY3x7Z",
    "outputId": "102fcbad-0888-4327-ea3f-0b87ae308540"
   },
   "outputs": [
    {
     "name": "stdout",
     "output_type": "stream",
     "text": [
      "Epoch 1/20\n",
      "400/400 [==============================] - 4s 8ms/step - loss: 0.0031 - val_loss: 2.9111e-05\n",
      "Epoch 2/20\n",
      "400/400 [==============================] - 3s 7ms/step - loss: 5.4953e-04 - val_loss: 1.9929e-05\n",
      "Epoch 3/20\n",
      "400/400 [==============================] - 3s 7ms/step - loss: 2.4640e-05 - val_loss: 1.1017e-06\n",
      "Epoch 4/20\n",
      "400/400 [==============================] - 3s 7ms/step - loss: 8.5162e-05 - val_loss: 7.1372e-05\n",
      "Epoch 5/20\n",
      "400/400 [==============================] - 3s 7ms/step - loss: 2.9866e-04 - val_loss: 9.0648e-07\n",
      "Epoch 6/20\n",
      "400/400 [==============================] - 3s 7ms/step - loss: 2.1977e-05 - val_loss: 1.4054e-07\n",
      "Epoch 7/20\n",
      "400/400 [==============================] - 3s 7ms/step - loss: 2.6264e-05 - val_loss: 6.3311e-05\n",
      "Epoch 8/20\n",
      "400/400 [==============================] - 3s 7ms/step - loss: 1.8046e-04 - val_loss: 3.5174e-05\n"
     ]
    },
    {
     "data": {
      "text/plain": [
       "<tensorflow.python.keras.callbacks.History at 0x7fe773e7fad0>"
      ]
     },
     "execution_count": 7,
     "metadata": {
      "tags": []
     },
     "output_type": "execute_result"
    }
   ],
   "source": [
    "model.fit(generator, epochs=20, validation_data=validation_generator, callbacks=[early_stopping])"
   ]
  },
  {
   "cell_type": "code",
   "execution_count": 8,
   "metadata": {
    "colab": {
     "base_uri": "https://localhost:8080/",
     "height": 282
    },
    "id": "L5oxAUhb4NpX",
    "outputId": "f8057d23-8fc2-4ef1-cf90-85fff89b20c6"
   },
   "outputs": [
    {
     "data": {
      "text/plain": [
       "<matplotlib.axes._subplots.AxesSubplot at 0x7fe72d9c18d0>"
      ]
     },
     "execution_count": 8,
     "metadata": {
      "tags": []
     },
     "output_type": "execute_result"
    },
    {
     "data": {
      "image/png": "[encoded data removed]",
      "text/plain": [
       "<Figure size 432x288 with 1 Axes>"
      ]
     },
     "metadata": {
      "needs_background": "light",
      "tags": []
     },
     "output_type": "display_data"
    }
   ],
   "source": [
    "losses = pd.DataFrame(model.history.history)\n",
    "\n",
    "losses.plot()"
   ]
  },
  {
   "cell_type": "code",
   "execution_count": 9,
   "metadata": {
    "colab": {
     "base_uri": "https://localhost:8080/"
    },
    "id": "_ecnj5Wi5RIg",
    "outputId": "8e30287e-0dd4-4532-d754-3a2297283803"
   },
   "outputs": [
    {
     "data": {
      "text/plain": [
       "[516, 81]"
      ]
     },
     "execution_count": 9,
     "metadata": {
      "tags": []
     },
     "output_type": "execute_result"
    }
   ],
   "source": [
    "[4,54,54,54,54,68435,146,513,516,81][-2:]"
   ]
  },
  {
   "cell_type": "markdown",
   "metadata": {
    "id": "NqbHZ3RQBCT2"
   },
   "source": [
    "## Generate the time series"
   ]
  },
  {
   "cell_type": "code",
   "execution_count": 10,
   "metadata": {
    "colab": {
     "base_uri": "https://localhost:8080/",
     "height": 384
    },
    "id": "qi05idI6_nYj",
    "outputId": "79add2fa-91fa-4d96-9bfd-35a5035e18fe"
   },
   "outputs": [
    {
     "name": "stderr",
     "output_type": "stream",
     "text": [
      "/usr/local/lib/python3.7/dist-packages/ipykernel_launcher.py:15: SettingWithCopyWarning: \n",
      "A value is trying to be set on a copy of a slice from a DataFrame.\n",
      "Try using .loc[row_indexer,col_indexer] = value instead\n",
      "\n",
      "See the caveats in the documentation: https://pandas.pydata.org/pandas-docs/stable/user_guide/indexing.html#returning-a-view-versus-a-copy\n",
      "  from ipykernel import kernelapp as app\n"
     ]
    },
    {
     "data": {
      "text/plain": [
       "<matplotlib.axes._subplots.AxesSubplot at 0x7fe72d316490>"
      ]
     },
     "execution_count": 10,
     "metadata": {
      "tags": []
     },
     "output_type": "execute_result"
    },
    {
     "data": {
      "image/png": "[encoded data removed]",
      "text/plain": [
       "<Figure size 432x288 with 1 Axes>"
      ]
     },
     "metadata": {
      "needs_background": "light",
      "tags": []
     },
     "output_type": "display_data"
    }
   ],
   "source": [
    "## Generate the time series\n",
    "\n",
    "test_predictions = []\n",
    "first_eval_batch = train[-length:]\n",
    "current_batch    = first_eval_batch.reshape(output, length, output) # 1, 50, 1\n",
    "\n",
    "for i in range(len(test)):\n",
    "  current_pred = model.predict(current_batch)[0] # shape (1, 1)\n",
    "  test_predictions.append(current_pred)\n",
    "  # Shift the current_batch by1\n",
    "  # [current_pred]: To have 3 dims\n",
    "  current_batch = np.append(current_batch[:, 1:, :], [[current_pred]], axis=1)\n",
    "  \n",
    "# Inverse transform\n",
    "df_test['pred'] = scaler.inverse_transform(test_predictions)\n",
    "\n",
    "# Plot the result \n",
    "\n",
    "df_test.plot()"
   ]
  },
  {
   "cell_type": "code",
   "execution_count": 10,
   "metadata": {
    "id": "6EeBqy2JE0Sn"
   },
   "outputs": [],
   "source": []
  }
 ],
 "metadata": {
  "colab": {
   "name": "Tensorflow - Timeseris -SimpleRNN.ipynb",
   "provenance": []
  },
  "kernelspec": {
   "display_name": "Python 3",
   "language": "python",
   "name": "python3"
  },
  "language_info": {
   "codemirror_mode": {
    "name": "ipython",
    "version": 3
   },
   "file_extension": ".py",
   "mimetype": "text/x-python",
   "name": "python",
   "nbconvert_exporter": "python",
   "pygments_lexer": "ipython3",
   "version": "3.8.5"
  }
 },
 "nbformat": 4,
 "nbformat_minor": 1
}

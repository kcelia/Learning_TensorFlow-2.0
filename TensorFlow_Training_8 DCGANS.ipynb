{
  "nbformat": 4,
  "nbformat_minor": 0,
  "metadata": {
    "kernelspec": {
      "display_name": "Python 3",
      "language": "python",
      "name": "python3"
    },
    "language_info": {
      "codemirror_mode": {
        "name": "ipython",
        "version": 3
      },
      "file_extension": ".py",
      "mimetype": "text/x-python",
      "name": "python",
      "nbconvert_exporter": "python",
      "pygments_lexer": "ipython3",
      "version": "3.7.5"
    },
    "colab": {
      "name": "01-DCGANS.ipynb",
      "provenance": []
    },
    "accelerator": "GPU"
  },
  "cells": [
    {
      "cell_type": "markdown",
      "metadata": {
        "id": "h09XNyCEdzXb"
      },
      "source": [
        "# GANs - Generative Adverserial Networks"
      ]
    },
    {
      "cell_type": "code",
      "metadata": {
        "id": "htBR6Z1MdzXb"
      },
      "source": [
        "import pandas as pd\n",
        "import numpy as np\n",
        "import matplotlib.pyplot as plt\n",
        "\n",
        "import tensorflow as tf\n",
        "\n",
        "from tensorflow.keras.datasets import mnist\n",
        "from tensorflow.keras.models import Sequential\n",
        "from tensorflow.keras.layers import Dense, Reshape, Dropout, LeakyReLU, Flatten\n",
        "from tensorflow.keras.layers import BatchNormalization, Conv2D, Conv2DTranspose"
      ],
      "execution_count": 1,
      "outputs": []
    },
    {
      "cell_type": "code",
      "metadata": {
        "id": "IPTlvOFY-_UZ"
      },
      "source": [
        "np.random.seed(42)\n",
        "tf.random.set_seed(42)"
      ],
      "execution_count": 2,
      "outputs": []
    },
    {
      "cell_type": "markdown",
      "metadata": {
        "id": "ZPbsGtGpBDMR"
      },
      "source": [
        "### MNIST data"
      ]
    },
    {
      "cell_type": "code",
      "metadata": {
        "id": "n2nvy3hEdzXo",
        "outputId": "e605280f-8727-4c54-e918-4fc48767a8d2",
        "colab": {
          "base_uri": "https://localhost:8080/"
        }
      },
      "source": [
        "(X_train, y_train), (X_test, y_test) = mnist.load_data()\n",
        "\n",
        "X_train.shape, y_train.shape"
      ],
      "execution_count": 3,
      "outputs": [
        {
          "output_type": "stream",
          "name": "stdout",
          "text": [
            "Downloading data from https://storage.googleapis.com/tensorflow/tf-keras-datasets/mnist.npz\n",
            "11493376/11490434 [==============================] - 0s 0us/step\n",
            "11501568/11490434 [==============================] - 0s 0us/step\n"
          ]
        },
        {
          "output_type": "execute_result",
          "data": {
            "text/plain": [
              "((60000, 28, 28), (60000,))"
            ]
          },
          "metadata": {},
          "execution_count": 3
        }
      ]
    },
    {
      "cell_type": "code",
      "metadata": {
        "id": "veS5QA0udzXv",
        "outputId": "f715df1b-bd65-4258-b789-7cccbd495e6c",
        "colab": {
          "base_uri": "https://localhost:8080/",
          "height": 282
        }
      },
      "source": [
        "plt.imshow(X_train[0])"
      ],
      "execution_count": 4,
      "outputs": [
        {
          "output_type": "execute_result",
          "data": {
            "text/plain": [
              "<matplotlib.image.AxesImage at 0x7fd40ebeff10>"
            ]
          },
          "metadata": {},
          "execution_count": 4
        },
        {
          "output_type": "display_data",
          "data": {
            "image/png": "[encoded data removed]",
            "text/plain": [
              "<Figure size 432x288 with 1 Axes>"
            ]
          },
          "metadata": {
            "needs_background": "light"
          }
        }
      ]
    },
    {
      "cell_type": "markdown",
      "metadata": {
        "id": "5_KGSeUndzX1"
      },
      "source": [
        "### Reshape & Rescale les Images pour DCGAN\n",
        "\n",
        "Le générateur utilisera la fonction d'activation de tanh pour la dernière couche, nous voulons donc remodeler X_train pour qu'il soit dans les limites de -1 à 1."
      ]
    },
    {
      "cell_type": "code",
      "metadata": {
        "id": "rmp8cA7ldzX1",
        "outputId": "3568bc97-bbd6-477d-8ff9-8106bf65d73c",
        "colab": {
          "base_uri": "https://localhost:8080/"
        }
      },
      "source": [
        "# Normalization\n",
        "X_train = X_train  / 255.0\n",
        "X_train = X_train.reshape(-1, 28, 28, 1) * 2. - 1.\n",
        "\n",
        "X_train.min(), X_train.max()"
      ],
      "execution_count": 5,
      "outputs": [
        {
          "output_type": "execute_result",
          "data": {
            "text/plain": [
              "(-1.0, 1.0)"
            ]
          },
          "metadata": {},
          "execution_count": 5
        }
      ]
    },
    {
      "cell_type": "markdown",
      "metadata": {
        "id": "g2Xrq0aJdzYD"
      },
      "source": [
        "#### Filtrer les données pour un entraînement plus rapide sur un plus petit ensemble de données"
      ]
    },
    {
      "cell_type": "code",
      "metadata": {
        "id": "lh11OgCydzYD",
        "outputId": "d0094889-676f-430f-c231-53ba5cc52258",
        "colab": {
          "base_uri": "https://localhost:8080/"
        }
      },
      "source": [
        "only_zeros = X_train[y_train == 0]\n",
        "only_zeros.shape"
      ],
      "execution_count": 6,
      "outputs": [
        {
          "output_type": "execute_result",
          "data": {
            "text/plain": [
              "(5923, 28, 28, 1)"
            ]
          },
          "metadata": {},
          "execution_count": 6
        }
      ]
    },
    {
      "cell_type": "markdown",
      "metadata": {
        "id": "omXIHiLm_DPr"
      },
      "source": [
        "### Generator\n"
      ]
    },
    {
      "cell_type": "code",
      "metadata": {
        "id": "BGw3y5J5BseZ"
      },
      "source": [
        "codings_size = 100"
      ],
      "execution_count": 21,
      "outputs": []
    },
    {
      "cell_type": "code",
      "metadata": {
        "id": "4Zb5Bp_6dzYO"
      },
      "source": [
        "generator = Sequential()\n",
        "\n",
        "generator.add(Dense(7 * 7 * 128, input_shape=[codings_size]))\n",
        "generator.add(Reshape([7, 7, 128]))\n",
        "generator.add(BatchNormalization())\n",
        "generator.add(Conv2DTranspose(64, kernel_size=5, strides=2, padding=\"same\", activation=\"relu\"))\n",
        "generator.add(BatchNormalization())\n",
        "generator.add(Conv2DTranspose(1, kernel_size=5, strides=2, padding=\"same\", activation=\"tanh\"))"
      ],
      "execution_count": 7,
      "outputs": []
    },
    {
      "cell_type": "markdown",
      "metadata": {
        "id": "xf8WFkdI_nX-"
      },
      "source": [
        "### Disciminator"
      ]
    },
    {
      "cell_type": "code",
      "metadata": {
        "id": "RDYBfyCUdzYQ"
      },
      "source": [
        "discriminator = Sequential()\n",
        "\n",
        "discriminator.add(Conv2D(64, kernel_size=5, strides=2, padding=\"same\", activation=LeakyReLU(0.3), input_shape=[28, 28, 1]))\n",
        "discriminator.add(Dropout(0.5))\n",
        "discriminator.add(Conv2D(128, kernel_size=5, strides=2, padding=\"same\", activation=LeakyReLU(0.3)))\n",
        "discriminator.add(Dropout(0.5))\n",
        "discriminator.add(Flatten())\n",
        "discriminator.add(Dense(1, activation=\"sigmoid\"))\n",
        "\n",
        "discriminator.compile(loss=\"binary_crossentropy\", optimizer=\"adam\")\n",
        "discriminator.trainable = False"
      ],
      "execution_count": 8,
      "outputs": []
    },
    {
      "cell_type": "code",
      "metadata": {
        "id": "IqqRZoYudzYS"
      },
      "source": [
        "GAN = Sequential([generator, discriminator])"
      ],
      "execution_count": 9,
      "outputs": []
    },
    {
      "cell_type": "code",
      "metadata": {
        "id": "bOYCntF2dzYW"
      },
      "source": [
        "GAN.compile(loss=\"binary_crossentropy\", optimizer=\"adam\")"
      ],
      "execution_count": 10,
      "outputs": []
    },
    {
      "cell_type": "code",
      "metadata": {
        "id": "qib41cN1AA1T",
        "outputId": "002223b7-9883-4219-fd31-d7dd9862a891",
        "colab": {
          "base_uri": "https://localhost:8080/"
        }
      },
      "source": [
        "GAN.summary()"
      ],
      "execution_count": 11,
      "outputs": [
        {
          "output_type": "stream",
          "name": "stdout",
          "text": [
            "Model: \"sequential_2\"\n",
            "_________________________________________________________________\n",
            "Layer (type)                 Output Shape              Param #   \n",
            "=================================================================\n",
            "sequential (Sequential)      (None, 28, 28, 1)         840705    \n",
            "_________________________________________________________________\n",
            "sequential_1 (Sequential)    (None, 1)                 212865    \n",
            "=================================================================\n",
            "Total params: 1,053,570\n",
            "Trainable params: 840,321\n",
            "Non-trainable params: 213,249\n",
            "_________________________________________________________________\n"
          ]
        }
      ]
    },
    {
      "cell_type": "code",
      "metadata": {
        "id": "pP4WN16gdzYZ",
        "outputId": "9e8bc668-5527-4522-c01e-d78b11f932b1",
        "colab": {
          "base_uri": "https://localhost:8080/"
        }
      },
      "source": [
        "GAN.layers"
      ],
      "execution_count": 12,
      "outputs": [
        {
          "output_type": "execute_result",
          "data": {
            "text/plain": [
              "[<keras.engine.sequential.Sequential at 0x7fd40eb6ee50>,\n",
              " <keras.engine.sequential.Sequential at 0x7fd400855210>]"
            ]
          },
          "metadata": {},
          "execution_count": 12
        }
      ]
    },
    {
      "cell_type": "code",
      "metadata": {
        "id": "KHUGFFGKdzYd",
        "outputId": "ef39433f-9d5e-442b-aa6e-34225405944a",
        "colab": {
          "base_uri": "https://localhost:8080/"
        }
      },
      "source": [
        "# Generator\n",
        "GAN.layers[0].summary()"
      ],
      "execution_count": 13,
      "outputs": [
        {
          "output_type": "stream",
          "name": "stdout",
          "text": [
            "Model: \"sequential\"\n",
            "_________________________________________________________________\n",
            "Layer (type)                 Output Shape              Param #   \n",
            "=================================================================\n",
            "dense (Dense)                (None, 6272)              633472    \n",
            "_________________________________________________________________\n",
            "reshape (Reshape)            (None, 7, 7, 128)         0         \n",
            "_________________________________________________________________\n",
            "batch_normalization (BatchNo (None, 7, 7, 128)         512       \n",
            "_________________________________________________________________\n",
            "conv2d_transpose (Conv2DTran (None, 14, 14, 64)        204864    \n",
            "_________________________________________________________________\n",
            "batch_normalization_1 (Batch (None, 14, 14, 64)        256       \n",
            "_________________________________________________________________\n",
            "conv2d_transpose_1 (Conv2DTr (None, 28, 28, 1)         1601      \n",
            "=================================================================\n",
            "Total params: 840,705\n",
            "Trainable params: 840,321\n",
            "Non-trainable params: 384\n",
            "_________________________________________________________________\n"
          ]
        }
      ]
    },
    {
      "cell_type": "code",
      "metadata": {
        "id": "TV6n2Mr8dzYf",
        "outputId": "c343a8da-3723-4079-f9af-02b0a7947e3e",
        "colab": {
          "base_uri": "https://localhost:8080/"
        }
      },
      "source": [
        "# discriminator\n",
        "GAN.layers[1].summary()"
      ],
      "execution_count": 15,
      "outputs": [
        {
          "output_type": "stream",
          "name": "stdout",
          "text": [
            "Model: \"sequential_1\"\n",
            "_________________________________________________________________\n",
            "Layer (type)                 Output Shape              Param #   \n",
            "=================================================================\n",
            "conv2d (Conv2D)              (None, 14, 14, 64)        1664      \n",
            "_________________________________________________________________\n",
            "dropout (Dropout)            (None, 14, 14, 64)        0         \n",
            "_________________________________________________________________\n",
            "conv2d_1 (Conv2D)            (None, 7, 7, 128)         204928    \n",
            "_________________________________________________________________\n",
            "dropout_1 (Dropout)          (None, 7, 7, 128)         0         \n",
            "_________________________________________________________________\n",
            "flatten (Flatten)            (None, 6272)              0         \n",
            "_________________________________________________________________\n",
            "dense_1 (Dense)              (None, 1)                 6273      \n",
            "=================================================================\n",
            "Total params: 212,865\n",
            "Trainable params: 0\n",
            "Non-trainable params: 212,865\n",
            "_________________________________________________________________\n"
          ]
        }
      ]
    },
    {
      "cell_type": "markdown",
      "metadata": {
        "id": "aXhHTA3qdzYh"
      },
      "source": [
        "### Mise en place des batches d'entraînement"
      ]
    },
    {
      "cell_type": "markdown",
      "metadata": {
        "id": "dmfKYrrgdzYm"
      },
      "source": [
        "https://stackoverflow.com/questions/46444018/meaning-of-buffer-size-in-dataset-map-dataset-prefetch-and-dataset-shuffle\n",
        "\n",
        "Le paramètre buffer_size dans Dataset.shuffle() peut affecter le caractère aléatoire de votre ensemble de données, et donc l'ordre dans lequel les éléments sont produits. "
      ]
    },
    {
      "cell_type": "code",
      "metadata": {
        "id": "L9trUieMdzYn"
      },
      "source": [
        "batch_size, epochs = 32, 50"
      ],
      "execution_count": 29,
      "outputs": []
    },
    {
      "cell_type": "code",
      "metadata": {
        "id": "OULSrcBcBf2t"
      },
      "source": [
        "# my_data = X_train\n",
        "my_data = only_zeros"
      ],
      "execution_count": 17,
      "outputs": []
    },
    {
      "cell_type": "code",
      "metadata": {
        "id": "aof3_RvfdzYo",
        "outputId": "a9e90c29-c108-4d00-b9f3-44792e515582",
        "colab": {
          "base_uri": "https://localhost:8080/"
        }
      },
      "source": [
        "dataset = tf.data.Dataset.from_tensor_slices(my_data).shuffle(buffer_size=1000)\n",
        "\n",
        "type(dataset)"
      ],
      "execution_count": 18,
      "outputs": [
        {
          "output_type": "execute_result",
          "data": {
            "text/plain": [
              "tensorflow.python.data.ops.dataset_ops.ShuffleDataset"
            ]
          },
          "metadata": {},
          "execution_count": 18
        }
      ]
    },
    {
      "cell_type": "code",
      "metadata": {
        "id": "ep9ZEvD_dzYv",
        "outputId": "8b5fef2b-d7f5-41d8-f989-7eec86783be6",
        "colab": {
          "base_uri": "https://localhost:8080/"
        }
      },
      "source": [
        "dataset = dataset.batch(batch_size, drop_remainder=True).prefetch(1)\n",
        "\n",
        "type(dataset)"
      ],
      "execution_count": 19,
      "outputs": [
        {
          "output_type": "execute_result",
          "data": {
            "text/plain": [
              "tensorflow.python.data.ops.dataset_ops.PrefetchDataset"
            ]
          },
          "metadata": {},
          "execution_count": 19
        }
      ]
    },
    {
      "cell_type": "markdown",
      "metadata": {
        "id": "kOkYYgEqdzYz"
      },
      "source": [
        "**NOTE : Le générateur ne voit jamais d'images réelles. Il apprend en regardant les gradients qui remontent à travers le discriminateur. Plus le discriminateur s'améliore au cours de l'entraînement, plus il contient d'informations dans ses gradients, ce qui signifie que le générateur peut être amené à progresser dans l'apprentissage de la génération de fausses images, dans notre cas, de faux zéros.**\n",
        "\n",
        "## Boucle d'Entraînement"
      ]
    },
    {
      "cell_type": "code",
      "metadata": {
        "id": "fHW2wb4LdzYz"
      },
      "source": [
        "# Saisir les composants séparés\n",
        "generator, discriminator = GAN.layers\n",
        "\n",
        "# Pour chaque epoch\n",
        "for epoch in range(epochs):\n",
        "    print(f\"Currently on Epoch {epoch+1}\")\n",
        "    i = 0\n",
        "    # Pour chaque batch dans le dataset\n",
        "    for X_batch in dataset:\n",
        "        i=i+1\n",
        "        if i%20 == 0:\n",
        "            print(f\"\\tCurrently on batch number {i} of {len(my_data)//batch_size}\")\n",
        "        #########################################\n",
        "        ## ENTRAINEMENT DU DISCRIMINATEUR ######\n",
        "        #######################################\n",
        "        \n",
        "        # Créer du bruit\n",
        "        noise = tf.random.normal(shape=[batch_size, codings_size])\n",
        "        \n",
        "        # Générer des chiffres basés uniquement sur du bruit d'entrée\n",
        "        gen_images = generator(noise)\n",
        "        \n",
        "        # Concaténer les images générées contre les images réelles\n",
        "        # POUR utiliser tf.concat, les types de données doivent correspondre !\n",
        "        X_fake_vs_real = tf.concat([gen_images, tf.dtypes.cast(X_batch,tf.float32)], axis=0)\n",
        "        \n",
        "        # Cibles fixées à zéro pour les fausses images et à 1 pour les images réelles\n",
        "        y1 = tf.constant([[0.]] * batch_size + [[1.]] * batch_size)\n",
        "        \n",
        "        # Cela permet de se débarrasser d'un avertissement Keras\n",
        "        discriminator.trainable = True\n",
        "        \n",
        "        # Entraîner le discriminateur sur ce batch\n",
        "        discriminator.train_on_batch(X_fake_vs_real, y1)\n",
        "        \n",
        "        \n",
        "        #####################################\n",
        "        ## ENTRAINEMENT DU GÉNÉRATEUR ######\n",
        "        ###################################\n",
        "        \n",
        "        # Créer un peu de bruit\n",
        "        noise = tf.random.normal(shape=[batch_size, codings_size])\n",
        "        \n",
        "        # Nous voulons que les discriminateurs croient que les fausses images sont réelles\n",
        "        y2 = tf.constant([[1.]] * batch_size)\n",
        "        \n",
        "        # Éviter un avertissement\n",
        "        discriminator.trainable = False\n",
        "        \n",
        "        GAN.train_on_batch(noise, y2)\n",
        "        \n",
        "print(\"TRAINING COMPLETE\")            "
      ],
      "execution_count": null,
      "outputs": []
    },
    {
      "cell_type": "markdown",
      "metadata": {
        "id": "AjxUGGUrBzkn"
      },
      "source": [
        "Il est fort probable que votre générateur n'apprenne à créer qu'un seul type de bruit zéro. Quel que soit le bruit qui y passe."
      ]
    },
    {
      "cell_type": "markdown",
      "metadata": {
        "id": "a8VB0yXTdzY6"
      },
      "source": [
        "https://www.quora.com/What-does-it-mean-if-all-produced-images-of-a-GAN-look-the-same"
      ]
    },
    {
      "cell_type": "code",
      "metadata": {
        "id": "Wd79yypgdzY7",
        "outputId": "4a8bfe51-5e87-44d3-e6af-932d851d99ea",
        "colab": {
          "base_uri": "https://localhost:8080/"
        }
      },
      "source": [
        "noise = tf.random.normal(shape=[10, codings_size])\n",
        "\n",
        "noise.shape"
      ],
      "execution_count": 31,
      "outputs": [
        {
          "output_type": "execute_result",
          "data": {
            "text/plain": [
              "TensorShape([10, 100])"
            ]
          },
          "metadata": {},
          "execution_count": 31
        }
      ]
    },
    {
      "cell_type": "code",
      "metadata": {
        "id": "qYi5YbW9dzY-",
        "outputId": "4fb12fc8-9501-4b92-c269-93c0bcc08977",
        "colab": {
          "base_uri": "https://localhost:8080/",
          "height": 102
        }
      },
      "source": [
        "plt.imshow(noise)"
      ],
      "execution_count": 32,
      "outputs": [
        {
          "output_type": "execute_result",
          "data": {
            "text/plain": [
              "<matplotlib.image.AxesImage at 0x7fd400307a50>"
            ]
          },
          "metadata": {},
          "execution_count": 32
        },
        {
          "output_type": "display_data",
          "data": {
            "image/png": "[encoded data removed]",
            "text/plain": [
              "<Figure size 432x288 with 1 Axes>"
            ]
          },
          "metadata": {
            "needs_background": "light"
          }
        }
      ]
    },
    {
      "cell_type": "code",
      "metadata": {
        "id": "ZUBmdzrzdzZF"
      },
      "source": [
        "images = generator(noise)"
      ],
      "execution_count": 33,
      "outputs": []
    },
    {
      "cell_type": "code",
      "metadata": {
        "id": "4WHUbunkdzZK"
      },
      "source": [
        "single_image = images[0]"
      ],
      "execution_count": 34,
      "outputs": []
    },
    {
      "cell_type": "code",
      "metadata": {
        "id": "l-l83FG3dzZP"
      },
      "source": [
        "# single_image.numpy().reshape(28,28)"
      ],
      "execution_count": 35,
      "outputs": []
    },
    {
      "cell_type": "code",
      "metadata": {
        "id": "M752bXvKdzZS",
        "outputId": "097fa175-2e70-4c8b-fc46-c5557f5f5b3c",
        "colab": {
          "base_uri": "https://localhost:8080/",
          "height": 1000
        }
      },
      "source": [
        "for image in images:\n",
        "    plt.imshow(image.numpy().reshape(28,28))\n",
        "    plt.show()"
      ],
      "execution_count": 36,
      "outputs": [
        {
          "output_type": "display_data",
          "data": {
            "image/png": "[encoded data removed]",
            "text/plain": [
              "<Figure size 432x288 with 1 Axes>"
            ]
          },
          "metadata": {
            "needs_background": "light"
          }
        },
        {
          "output_type": "display_data",
          "data": {
            "image/png": "[encoded data removed]",
            "text/plain": [
              "<Figure size 432x288 with 1 Axes>"
            ]
          },
          "metadata": {
            "needs_background": "light"
          }
        },
        {
          "output_type": "display_data",
          "data": {
            "image/png": "[encoded data removed]",
            "text/plain": [
              "<Figure size 432x288 with 1 Axes>"
            ]
          },
          "metadata": {
            "needs_background": "light"
          }
        },
        {
          "output_type": "display_data",
          "data": {
            "image/png": "[encoded data removed]",
            "text/plain": [
              "<Figure size 432x288 with 1 Axes>"
            ]
          },
          "metadata": {
            "needs_background": "light"
          }
        },
        {
          "output_type": "display_data",
          "data": {
            "image/png": "[encoded data removed]",
            "text/plain": [
              "<Figure size 432x288 with 1 Axes>"
            ]
          },
          "metadata": {
            "needs_background": "light"
          }
        },
        {
          "output_type": "display_data",
          "data": {
            "image/png": "[encoded data removed]",
            "text/plain": [
              "<Figure size 432x288 with 1 Axes>"
            ]
          },
          "metadata": {
            "needs_background": "light"
          }
        },
        {
          "output_type": "display_data",
          "data": {
            "image/png": "[encoded data removed]",
            "text/plain": [
              "<Figure size 432x288 with 1 Axes>"
            ]
          },
          "metadata": {
            "needs_background": "light"
          }
        },
        {
          "output_type": "display_data",
          "data": {
            "image/png": "[encoded data removed]",
            "text/plain": [
              "<Figure size 432x288 with 1 Axes>"
            ]
          },
          "metadata": {
            "needs_background": "light"
          }
        },
        {
          "output_type": "display_data",
          "data": {
            "image/png": "[encoded data removed]",
            "text/plain": [
              "<Figure size 432x288 with 1 Axes>"
            ]
          },
          "metadata": {
            "needs_background": "light"
          }
        },
        {
          "output_type": "display_data",
          "data": {
            "image/png": "[encoded data removed]",
            "text/plain": [
              "<Figure size 432x288 with 1 Axes>"
            ]
          },
          "metadata": {
            "needs_background": "light"
          }
        }
      ]
    },
    {
      "cell_type": "markdown",
      "metadata": {
        "id": "nJXHqn6zdzZU"
      },
      "source": [
        "**Visionnez notre vidéo de conclusion pour connaître les meilleures pratiques dans ce domaine ! Nous avons besoin de GPUs très puissants pour obtenir des résultats réalistes !**"
      ]
    }
  ]
}